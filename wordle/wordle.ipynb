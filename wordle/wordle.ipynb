{
 "cells": [
  {
   "cell_type": "code",
   "execution_count": 1,
   "metadata": {},
   "outputs": [],
   "source": [
    "class wordle_solver:\n",
    "    def __init__(self):\n",
    "        self.curr_word = [0, 0, 0, 0, 0]\n",
    "        self.guess_num = 0\n",
    "        file = open(\"words.txt\", \"r\")\n",
    "        self.words = file.readlines()\n",
    "\n",
    "        self.words = [word[0:len(word) - 1].strip() for word in self.words]\n",
    "    \n",
    "    def make_guess(self):\n",
    "        letter_counts = {}\n",
    "        self.guess_num += 1\n",
    "        \n",
    "        for word in self.words:\n",
    "            for i, ch in enumerate(word):\n",
    "                if self.curr_word[i] != 1:\n",
    "                    if ch not in letter_counts:\n",
    "                        letter_counts[ch] = (0, [0, 0, 0, 0, 0])\n",
    "                    # letter_counts[ch][0] + 1\n",
    "                    word_rep = letter_counts[ch][1]\n",
    "                    word_rep[i] += 1\n",
    "                    letter_counts[ch] = (letter_counts[ch][0] + 1, word_rep)\n",
    "                    \n",
    "        # most_freq = []\n",
    "        \n",
    "        # for key in letter_counts.keys():\n",
    "        #     if len(most_freq) == 0:\n",
    "        #         most_freq.append((key, letter_counts[key][0]))\n",
    "        #     for i, n in enumerate(most_freq):\n",
    "        #         if letter_counts[key][0] > n[1]:\n",
    "        #             most_freq.insert(i, (key, letter_counts[key][0]))\n",
    "        #             break\n",
    "        \n",
    "        max_score = 0\n",
    "        best_word = \"\"\n",
    "        \n",
    "        for word in self.words:\n",
    "            score = self.score_word(word, letter_counts)\n",
    "            \n",
    "            if score > max_score:\n",
    "                max_score = score\n",
    "                best_word = word\n",
    "        \n",
    "        return best_word\n",
    "        \n",
    "    def score_word(self, word, letter_counts):\n",
    "        score = 0\n",
    "        \n",
    "        # num_correct = sum(self.curr_word)\n",
    "        diff_letters = set()\n",
    "        \n",
    "        for i, ch in enumerate(word):\n",
    "            # score += letter_counts[ch][0] + letter_counts[ch][1][i]\n",
    "            if self.curr_word[i] != 1:\n",
    "                score += 0.1 * letter_counts[ch][0] + letter_counts[ch][1][i]\n",
    "                diff_letters.add(ch)\n",
    "            \n",
    "        return score + len(self.words) * 0.2 * len(diff_letters)\n",
    "    \n",
    "    def guess_res(self, guess, correct_places, correct_letters):\n",
    "        self.curr_word = correct_places\n",
    "        \n",
    "        for i, ch in enumerate(guess):\n",
    "            if correct_places[i] == 1:\n",
    "                self.words = [word for word in self.words if word[i] == ch]\n",
    "            elif correct_letters[i] == 1:\n",
    "                self.words = [word for word in self.words if word[i] != ch and ch in word]\n",
    "            else:\n",
    "                self.words = [word for word in self.words if not ch in word]\n",
    "                \n",
    "        print(self.words)"
   ]
  },
  {
   "cell_type": "code",
   "execution_count": 2,
   "metadata": {},
   "outputs": [],
   "source": [
    "solver = wordle_solver()"
   ]
  },
  {
   "cell_type": "code",
   "execution_count": 3,
   "metadata": {},
   "outputs": [
    {
     "data": {
      "text/plain": [
       "'cares'"
      ]
     },
     "execution_count": 3,
     "metadata": {},
     "output_type": "execute_result"
    }
   ],
   "source": [
    "solver.make_guess()"
   ]
  },
  {
   "cell_type": "code",
   "execution_count": 4,
   "metadata": {},
   "outputs": [
    {
     "name": "stdout",
     "output_type": "stream",
     "text": [
      "['other', 'never', 'under', 'order', 'power', 'green', 'river', 'tried', 'lower', 'older', 'upper', 'enter', 'offer', 'outer', 'ruler', 'dried', 'refer', 'brief', 'owner', 'meter', 'tower', 'inner', 'fewer', 'ruled', 'fever', 'lever', 'rider', 'wider', 'tiger', 'urged', 'queer', 'diver', 'grief', 'fiber', 'freed', 'liver', 'breed', 'fried', 'lover', 'rodeo', 'greet', 'utter', 'elder', 'rowed', 'newer', 'rebel', 'finer', 'buyer', 'otter', 'repel', 'drier', 'boxer', 'liner', 'miner', 'rivet', 'renew', 'greed', 'ripen', 'roped', 'mower', 'infer', 'poker', 'voter', 'hover', 'dryer', 'homer', 'flier', 'diner', 'liter', 'foyer', 'deter', 'freer', 'flyer', 'miter', 'revel', 'truer', 'ember', 'leper', 'rover', 'gruel', 'defer', 'viper', 'robed', 'tuber', 'eider', 'udder', 'preen', 'odder', 'joker', 'idler', 'pried', 'irked', 'bluer', 'ether', 'roved', 'viler', 'boner', 'huger', 'riper', 'ruder', 'goner', 'mixer', 'brier', 'tuner', 'timer', 'giver', 'inter', 'mover', 'piper', 'bower', 'greek', 'roger', 'peter', 'rupee', 'wiper', 'roper', 'edger', 'riled', 'umber', 'miler', 'treed', 'loner', 'titer', 'hiker', 'toner', 'fryer', 'rumen', 'riven', 'lifer', 'biter', 'hewer', 'fiver', 'rower', 'gofer', 'hyper', 'dimer', 'fixer', 'biker', 'toker', 'doper', 'rewed', 'duper', 'ogler', 'hider', 'wooer', 'piker', 'toper', 'wryer', 'dozer', 'rimed', 'dower', 'liker', 'vower', 'tiler', 'trier', 'nuder', 'pryer', 'giber', 'noter', 'orbed', 'mimer', 'jiber', 'prier', 'loper', 'weber', 'relet', 'trued', 'inker', 'oiler', 'rived', 'hoper', 'plyer', 'niter', 'revet', 'honer', 'fumer', 'moper', 'frier', 'filer', 'toyer', 'muter', 'hiver', 'urger', 'proem', 'rifer', 'holer', 'doter', 'toter', 'poler', 'bider', 'hexer', 'gluer', 'keyer', 'rimer', 'egger', 'wrier', 'ender']\n"
     ]
    },
    {
     "data": {
      "text/plain": [
       "'fiver'"
      ]
     },
     "execution_count": 4,
     "metadata": {},
     "output_type": "execute_result"
    }
   ],
   "source": [
    "solver.guess_res(guess='cares', correct_places=[0, 0, 0, 1, 0], correct_letters=[0, 0, 1, 0, 0])\n",
    "solver.make_guess()"
   ]
  },
  {
   "cell_type": "code",
   "execution_count": 73,
   "metadata": {},
   "outputs": [
    {
     "name": "stdout",
     "output_type": "stream",
     "text": [
      "['kinds', 'ships', 'wings', 'signs', 'winds', 'kings', 'finds', 'skins', 'minds', 'sings', 'funds', 'jumps', 'minus', 'pumps', 'spins', 'swims', 'sinks', 'hymns', 'disks', 'puffs', 'humus', 'skips', 'sighs', 'whips', 'mumps', 'humps', 'swiss', 'husks', 'snips', 'dumps', 'wisps', 'highs', 'minks', 'junks', 'kinks', 'pinks', 'winks', 'skims', 'shins', 'shuns', 'whims', 'sinus', 'hinds', 'punks', 'huffs', 'hunks', 'musks', 'spuds', 'quips', 'dunks', 'dusks', 'pimps', 'shims', 'kiwis', 'dings', 'sumps', 'skids', 'duffs', 'jinks', 'miffs', 'wimps', 'swigs', 'zings', 'muffs', 'finks', 'minis', 'pings', 'jings', 'spivs', 'midis', 'quids', 'gunks', 'mungs', 'dinks', 'gimps', 'finis', 'jiffs', 'jujus', 'jinns', 'dungs', 'funks', 'snugs']\n"
     ]
    },
    {
     "data": {
      "text/plain": [
       "'sinks'"
      ]
     },
     "execution_count": 73,
     "metadata": {},
     "output_type": "execute_result"
    }
   ],
   "source": [
    "solver.guess_res(guess='fiver', correct_places=[1, 0, 0, 1, 0], correct_letters=[0, 1, 0, 0, 1])\n",
    "solver.make_guess()"
   ]
  },
  {
   "cell_type": "code",
   "execution_count": 74,
   "metadata": {},
   "outputs": [
    {
     "name": "stdout",
     "output_type": "stream",
     "text": [
      "[]\n"
     ]
    },
    {
     "data": {
      "text/plain": [
       "''"
      ]
     },
     "execution_count": 74,
     "metadata": {},
     "output_type": "execute_result"
    }
   ],
   "source": [
    "solver.guess_res(guess='sinks', correct_places=[0, 0, 0, 0, 1], correct_letters=[0, 0, 1, 0, 0])\n",
    "solver.make_guess()"
   ]
  }
 ],
 "metadata": {
  "kernelspec": {
   "display_name": "Python 3",
   "language": "python",
   "name": "python3"
  },
  "language_info": {
   "codemirror_mode": {
    "name": "ipython",
    "version": 3
   },
   "file_extension": ".py",
   "mimetype": "text/x-python",
   "name": "python",
   "nbconvert_exporter": "python",
   "pygments_lexer": "ipython3",
   "version": "3.11.4"
  },
  "orig_nbformat": 4
 },
 "nbformat": 4,
 "nbformat_minor": 2
}
