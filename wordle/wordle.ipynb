{
 "cells": [
  {
   "cell_type": "code",
   "execution_count": 28,
   "metadata": {},
   "outputs": [],
   "source": [
    "class wordle_solver:\n",
    "    def __init__(self):\n",
    "        self.curr_word = [0, 0, 0, 0, 0]\n",
    "        self.guess_num = 0\n",
    "        file = open(\"words.txt\", \"r\")\n",
    "        self.words = file.readlines()\n",
    "\n",
    "        self.words = [word[0:len(word) - 1].strip() for word in self.words]\n",
    "    \n",
    "    def make_guess(self):\n",
    "        letter_counts = {}\n",
    "        self.guess_num += 1\n",
    "        \n",
    "        for word in self.words:\n",
    "            for i, ch in enumerate(word):\n",
    "                if self.curr_word[i] != 1:\n",
    "                    if ch not in letter_counts:\n",
    "                        letter_counts[ch] = (0, [0, 0, 0, 0, 0])\n",
    "                    # letter_counts[ch][0] + 1\n",
    "                    word_rep = letter_counts[ch][1]\n",
    "                    word_rep[i] += 1\n",
    "                    letter_counts[ch] = (letter_counts[ch][0] + 1, word_rep)\n",
    "                    \n",
    "        # most_freq = []\n",
    "        \n",
    "        # for key in letter_counts.keys():\n",
    "        #     if len(most_freq) == 0:\n",
    "        #         most_freq.append((key, letter_counts[key][0]))\n",
    "        #     for i, n in enumerate(most_freq):\n",
    "        #         if letter_counts[key][0] > n[1]:\n",
    "        #             most_freq.insert(i, (key, letter_counts[key][0]))\n",
    "        #             break\n",
    "        \n",
    "        max_score = 0\n",
    "        best_word = \"\"\n",
    "        \n",
    "        for word in self.words:\n",
    "            score = self.score_word(word, letter_counts)\n",
    "            \n",
    "            if score > max_score:\n",
    "                max_score = score\n",
    "                best_word = word\n",
    "        \n",
    "        return best_word\n",
    "        \n",
    "    def score_word(self, word, letter_counts):\n",
    "        score = 0\n",
    "        \n",
    "        # num_correct = sum(self.curr_word)\n",
    "        diff_letters = set()\n",
    "        \n",
    "        for i, ch in enumerate(word):\n",
    "            # score += letter_counts[ch][0] + letter_counts[ch][1][i]\n",
    "            if self.curr_word[i] != 1:\n",
    "                score += 0.1 * letter_counts[ch][0] + letter_counts[ch][1][i]\n",
    "                diff_letters.add(ch)\n",
    "            \n",
    "        return score + len(self.words) * 0.2 * len(diff_letters)\n",
    "    \n",
    "    def guess_res(self, guess, correct_places, correct_letters):\n",
    "        self.curr_word = correct_places\n",
    "        \n",
    "        for i, ch in enumerate(guess):\n",
    "            if correct_places[i] == 1:\n",
    "                self.words = [word for word in self.words if word[i] == ch]\n",
    "            elif correct_letters[i] == 1:\n",
    "                self.words = [word for word in self.words if word[i] != ch and ch in word]\n",
    "            else:\n",
    "                self.words = [word for word in self.words if not ch in word]\n",
    "                \n",
    "        print(self.words)"
   ]
  },
  {
   "cell_type": "code",
   "execution_count": 29,
   "metadata": {},
   "outputs": [],
   "source": [
    "solver = wordle_solver()"
   ]
  },
  {
   "cell_type": "code",
   "execution_count": 30,
   "metadata": {},
   "outputs": [
    {
     "data": {
      "text/plain": [
       "'cares'"
      ]
     },
     "execution_count": 30,
     "metadata": {},
     "output_type": "execute_result"
    }
   ],
   "source": [
    "solver.make_guess()"
   ]
  },
  {
   "cell_type": "code",
   "execution_count": 31,
   "metadata": {},
   "outputs": [
    {
     "name": "stdout",
     "output_type": "stream",
     "text": [
      "['sound', 'still', 'study', 'using', 'shown', 'stood', 'south', 'sight', 'visit', 'shook', 'solid', 'skill', 'shoot', 'swing', 'split', 'swung', 'stuff', 'silly', 'shout', 'midst', 'stiff', 'swift', 'ghost', 'moist', 'sixty', 'shiny', 'sixth', 'sunny', 'shift', 'noisy', 'twist', 'spoon', 'dusty', 'spoil', 'skull', 'stool', 'snowy', 'stout', 'didst', 'gypsy', 'stump', 'sting', 'swish', 'silky', 'bosom', 'stunt', 'flush', 'spout', 'stoop', 'sniff', 'stung', 'stony', 'husky', 'slung', 'spool', 'spill', 'bushy', 'snout', 'misty', 'shyly', 'boost', 'sloth', 'squid', 'bison', 'soggy', 'skiff', 'blush', 'swoop', 'showy', 'spiny', 'fussy', 'lousy', 'smoky', 'mossy', 'whisk', 'sling', 'stint', 'sunup', 'slump', 'sloop', 'dusky', 'hoist', 'pussy', 'musty', 'snuff', 'slyly', 'lusty', 'smith', 'bossy', 'slimy', 'stomp', 'skunk', 'plush', 'stink', 'sulky', 'gusty', 'slink', 'spilt', 'fishy', 'mushy', 'spook', 'spiky', 'slosh', 'suing', 'spunk', 'shush', 'slush', 'musky', 'swoon', 'skimp', 'slunk', 'stilt', 'wispy', 'stunk', 'skulk', 'snoop', 'swill', 'joist', 'gushy', 'whist', 'sissy', 'sooty', 'gusto', 'sonny', 'kiosk', 'soupy', 'tipsy', 'shunt', 'mousy', 'joust', 'synod', 'squib', 'sushi', 'woosh', 'shill', 'shish', 'snoot', 'spoof', 'nutsy', 'silty', 'softy', 'posit', 'bosun', 'knish', 'sully', 'sooth', 'hussy', 'soppy', 'whish', 'foist', 'busty', 'sluff', 'gutsy', 'pushy', 'gismo', 'sonly', 'sudsy', 'bitsy', 'mimsy', 'fusty', 'skint', 'spitz', 'gipsy', 'pssst', 'sylph', 'solon', 'tusky', 'missy', 'shoji', 'solum', 'sibyl', 'busby', 'bosky', 'dishy', 'pismo', 'snood', 'boson', 'dipso', 'fisty', 'slomo', 'stoup', 'goosy', 'lossy', 'styli', 'slily', 'shiki', 'stogy', 'whoso', 'spiff', 'mussy', 'snook', 'shmoo', 'spumy']\n"
     ]
    },
    {
     "data": {
      "text/plain": [
       "'stony'"
      ]
     },
     "execution_count": 31,
     "metadata": {},
     "output_type": "execute_result"
    }
   ],
   "source": [
    "solver.guess_res(guess='cares', correct_places=[0, 0, 0, 0, 0], correct_letters=[0, 0, 0, 0, 1])\n",
    "solver.make_guess()"
   ]
  },
  {
   "cell_type": "code",
   "execution_count": 27,
   "metadata": {},
   "outputs": [
    {
     "name": "stdout",
     "output_type": "stream",
     "text": [
      "[]\n"
     ]
    },
    {
     "data": {
      "text/plain": [
       "''"
      ]
     },
     "execution_count": 27,
     "metadata": {},
     "output_type": "execute_result"
    }
   ],
   "source": [
    "solver.guess_res(guess='stony', correct_places=[1, 1, 0, 0, 0], correct_letters=[0, 0, 0, 0, 0])\n",
    "solver.make_guess()"
   ]
  },
  {
   "cell_type": "code",
   "execution_count": null,
   "metadata": {},
   "outputs": [],
   "source": []
  }
 ],
 "metadata": {
  "kernelspec": {
   "display_name": "Python 3",
   "language": "python",
   "name": "python3"
  },
  "language_info": {
   "codemirror_mode": {
    "name": "ipython",
    "version": 3
   },
   "file_extension": ".py",
   "mimetype": "text/x-python",
   "name": "python",
   "nbconvert_exporter": "python",
   "pygments_lexer": "ipython3",
   "version": "3.11.4"
  },
  "orig_nbformat": 4
 },
 "nbformat": 4,
 "nbformat_minor": 2
}
