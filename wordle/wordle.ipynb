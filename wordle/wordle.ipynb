{
 "cells": [
  {
   "cell_type": "code",
   "execution_count": 33,
   "metadata": {},
   "outputs": [],
   "source": [
    "class wordle_solver:\n",
    "    def __init__(self):\n",
    "        self.curr_word = [0, 0, 0, 0, 0]\n",
    "        self.guess_num = 0\n",
    "        file = open(\"words.txt\", \"r\")\n",
    "        self.words = file.readlines()\n",
    "\n",
    "        self.words = [word[0:len(word) - 1].strip() for word in self.words]\n",
    "    \n",
    "    def make_guess(self):\n",
    "        letter_counts = {}\n",
    "        self.guess_num += 1\n",
    "        \n",
    "        for word in self.words:\n",
    "            for i, ch in enumerate(word):\n",
    "                if self.curr_word[i] != 1:\n",
    "                    if ch not in letter_counts:\n",
    "                        letter_counts[ch] = (0, [0, 0, 0, 0, 0])\n",
    "                    # letter_counts[ch][0] + 1\n",
    "                    word_rep = letter_counts[ch][1]\n",
    "                    word_rep[i] += 1\n",
    "                    letter_counts[ch] = (letter_counts[ch][0] + 1, word_rep)\n",
    "                    \n",
    "        # most_freq = []\n",
    "        \n",
    "        # for key in letter_counts.keys():\n",
    "        #     if len(most_freq) == 0:\n",
    "        #         most_freq.append((key, letter_counts[key][0]))\n",
    "        #     for i, n in enumerate(most_freq):\n",
    "        #         if letter_counts[key][0] > n[1]:\n",
    "        #             most_freq.insert(i, (key, letter_counts[key][0]))\n",
    "        #             break\n",
    "        \n",
    "        max_score = 0\n",
    "        best_word = \"\"\n",
    "        \n",
    "        for word in self.words:\n",
    "            score = self.score_word(word, letter_counts)\n",
    "            \n",
    "            if score > max_score:\n",
    "                max_score = score\n",
    "                best_word = word\n",
    "        \n",
    "        return best_word\n",
    "        \n",
    "    def score_word(self, word, letter_counts):\n",
    "        score = 0\n",
    "        \n",
    "        # num_correct = sum(self.curr_word)\n",
    "        diff_letters = set()\n",
    "        \n",
    "        for i, ch in enumerate(word):\n",
    "            # score += letter_counts[ch][0] + letter_counts[ch][1][i]\n",
    "            if self.curr_word[i] != 1:\n",
    "                score += 0.1 * letter_counts[ch][0] + letter_counts[ch][1][i]\n",
    "                diff_letters.add(ch)\n",
    "            \n",
    "        return score + len(self.words) * 0.2 * len(diff_letters)\n",
    "    \n",
    "    def guess_res(self, guess, correct_places, correct_letters):\n",
    "        self.curr_word = correct_places\n",
    "        \n",
    "        for i, ch in enumerate(guess):\n",
    "            if correct_places[i] == 1:\n",
    "                self.words = [word for word in self.words if word[i] == ch]\n",
    "            elif correct_letters[i] == 1:\n",
    "                self.words = [word for word in self.words if word[i] != ch and ch in word]\n",
    "            else:\n",
    "                self.words = [word for word in self.words if not ch in word]\n",
    "                \n",
    "        print(self.words)"
   ]
  },
  {
   "cell_type": "code",
   "execution_count": 51,
   "metadata": {},
   "outputs": [],
   "source": [
    "solver = wordle_solver()"
   ]
  },
  {
   "cell_type": "code",
   "execution_count": 52,
   "metadata": {},
   "outputs": [
    {
     "data": {
      "text/plain": [
       "'cares'"
      ]
     },
     "execution_count": 52,
     "metadata": {},
     "output_type": "execute_result"
    }
   ],
   "source": [
    "solver.make_guess()"
   ]
  },
  {
   "cell_type": "code",
   "execution_count": 50,
   "metadata": {},
   "outputs": [
    {
     "name": "stdout",
     "output_type": "stream",
     "text": [
      "['kinds', 'shows', 'books', 'looks', 'ships', 'songs', 'knows', 'units', 'woods', 'wings', 'foods', 'nouns', 'goods', 'signs', 'hills', 'towns', 'tools', 'winds', 'holds', 'flows', 'lungs', 'kings', 'finds', 'boots', 'mills', 'spots', 'skins', 'minds', 'shops', 'folks', 'gifts', 'lists', 'stops', 'lions', 'pulls', 'blows', 'sings', 'bills', 'suits', 'funds', 'shots', 'posts', 'hosts', 'jumps', 'minus', 'films', 'bonds', 'dolls', 'limbs', 'soils', 'ponds', 'twins', 'pools', 'hoofs', 'twigs', 'molds', 'gulls', 'bowls', 'knots', 'moons', 'bliss', 'bombs', 'hooks', 'links', 'fills', 'moths', 'gills', 'folds', 'joins', 'souls', 'pumps', 'spins', 'pints', 'kills', 'loops', 'swims', 'lifts', 'lumps', 'myths', 'fists', 'idols', 'bulbs', 'slips', 'bolts', 'tusks', 'bulls', 'moods', 'fonts', 'tombs', 'sinks', 'bonus', 'hymns', 'hints', 'snows', 'plows', 'fools', 'disks', 'plots', 'slums', 'puffs', 'hunts', 'mists', 'boils', 'humus', 'slits', 'plums', 'silks', 'bumps', 'skips', 'knobs', 'polls', 'pills', 'sighs', 'slows', 'slots', 'loins', 'bunks', 'whips', 'looms', 'gusts', 'volts', 'pious', 'plugs', 'mumps', 'humps', 'swiss', 'husks', 'snips', 'tongs', 'tufts', 'wilds', 'flips', 'hoops', 'hoods', 'glows', 'gowns', 'howls', 'soups', 'wills', 'solos', 'bouts', 'shuts', 'gloss', 'fowls', 'studs', 'slugs', 'binds', 'booms', 'molts', 'dumps', 'wisps', 'tints', 'tolls', 'monks', 'tilts', 'omits', 'highs', 'buoys', 'stubs', 'hulls', 'gulps', 'minks', 'butts', 'sills', 'gulfs', 'knits', 'spits', 'junks', 'toils', 'kinks', 'milks', 'thuds', 'lotus', 'pinks', 'toots', 'winks', 'longs', 'zooms', 'flops', 'mints', 'blobs', 'blots', 'hoots', 'fouls', 'skims', 'thins', 'skits', 'quits', 'busts', 'shins', 'shuns', 'lulls', 'snobs', 'nooks', 'buffs', 'bulks', 'silos', 'dusts', 'foils', 'whims', 'loons', 'silts', 'sifts', 'plods', 'jolts', 'kilts', 'dulls', 'sinus', 'hinds', 'wilts', 'mitts', 'punks', 'kilns', 'huffs', 'hulks', 'woofs', 'bongs', 'slops', 'dolts', 'sulks', 'golds', 'hunks', 'honks', 'stows', 'dodos', 'snubs', 'dooms', 'limps', 'wombs', 'stuns', 'musts', 'tills', 'kudos', 'punts', 'voids', 'yowls', 'plops', 'musks', 'flits', 'lisps', 'lolls', 'floss', 'flogs', 'whits', 'gluts', 'golfs', 'dints', 'pouts', 'lilts', 'mutts', 'spuds', 'noons', 'loots', 'hilts', 'gists', 'gilts', 'soots', 'mulls', 'doffs', 'ousts', 'hobos', 'lints', 'quips', 'gilds', 'putts', 'piths', 'wools', 'dunks', 'shoos', 'dusks', 'dills', 'bunts', 'goons', 'judos', 'lofts', 'pulps', 'yolks', 'bolls', 'downs', 'bogus', 'jowls', 'gongs', 'louis', 'thugs', 'logos', 'lusts', 'pimps', 'shims', 'slobs', 'louts', 'kiwis', 'globs', 'viols', 'kooks', 'dings', 'blips', 'winos', 'homos', 'sumps', 'skids', 'typos', 'nulls', 'kilos', 'bozos', 'duffs', 'toons', 'jinks', 'numbs', 'tiffs', 'slogs', 'snits', 'situs', 'bilks', 'twits', 'miffs', 'tutus', 'molls', 'whops', 'ploys', 'flubs', 'goofs', 'bibbs', 'lulus', 'wimps', 'yoyos', 'poufs', 'boobs', 'boons', 'yogis', 'swigs', 'toffs', 'zings', 'muffs', 'oinks', 'finks', 'minis', 'slims', 'pings', 'touts', 'sluts', 'obits', 'jilts', 'limos', 'snots', 'jings', 'pions', 'modus', 'didos', 'bhoys', 'spivs', 'foots', 'knops', 'polis', 'softs', 'biffs', 'bunds', 'polos', 'fulls', 'midis', 'quids', 'gunks', 'smuts', 'withs', 'mungs', 'muons', 'tings', 'poops', 'wonts', 'dinks', 'gimps', 'shits', 'idyls', 'lupus', 'finis', 'dhows', 'jiffs', 'goths', 'tikis', 'boffs', 'qophs', 'mosts', 'wonks', 'musos', 'smogs', 'limns', 'gouts', 'jujus', 'thous', 'bonks', 'kiths', 'wists', 'busks', 'zonks', 'ikons', 'bolos', 'jinns', 'wolds', 'bungs', 'dungs', 'pomps', 'poohs', 'gloms', 'funks', 'olios', 'snugs', 'topos', 'johns', 'moots', 'zooks', 'lings', 'pubis', 'gooks', 'hypos']\n"
     ]
    },
    {
     "data": {
      "text/plain": [
       "'bolts'"
      ]
     },
     "execution_count": 50,
     "metadata": {},
     "output_type": "execute_result"
    }
   ],
   "source": [
    "solver.guess_res(guess='cares', correct_places=[0, 0, 0, 0, 0], correct_letters=[0, 0, 0, 0, 1])\n",
    "solver.make_guess()"
   ]
  },
  {
   "cell_type": "code",
   "execution_count": 45,
   "metadata": {},
   "outputs": [
    {
     "name": "stdout",
     "output_type": "stream",
     "text": [
      "['thumb', 'thump', 'humph', 'humpf', 'thunk', 'whump', 'bumph', 'pffft']\n"
     ]
    },
    {
     "data": {
      "text/plain": [
       "'thump'"
      ]
     },
     "execution_count": 45,
     "metadata": {},
     "output_type": "execute_result"
    }
   ],
   "source": [
    "solver.guess_res(guess='doily', correct_places=[0, 0, 0, 0, 0], correct_letters=[0, 0, 0, 0, 0])\n",
    "solver.make_guess()"
   ]
  },
  {
   "cell_type": "code",
   "execution_count": 46,
   "metadata": {},
   "outputs": [
    {
     "name": "stdout",
     "output_type": "stream",
     "text": [
      "['humph', 'humpf', 'bumph']\n"
     ]
    },
    {
     "data": {
      "text/plain": [
       "'humph'"
      ]
     },
     "execution_count": 46,
     "metadata": {},
     "output_type": "execute_result"
    }
   ],
   "source": [
    "solver.guess_res(guess='thump', correct_places=[0, 0, 0, 0, 0], correct_letters=[0, 1, 1, 1, 1])\n",
    "solver.make_guess()"
   ]
  }
 ],
 "metadata": {
  "kernelspec": {
   "display_name": "Python 3",
   "language": "python",
   "name": "python3"
  },
  "language_info": {
   "codemirror_mode": {
    "name": "ipython",
    "version": 3
   },
   "file_extension": ".py",
   "mimetype": "text/x-python",
   "name": "python",
   "nbconvert_exporter": "python",
   "pygments_lexer": "ipython3",
   "version": "3.11.4"
  },
  "orig_nbformat": 4
 },
 "nbformat": 4,
 "nbformat_minor": 2
}
